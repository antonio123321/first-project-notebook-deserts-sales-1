{
 "cells": [
  {
   "cell_type": "markdown",
   "id": "d5a25ada",
   "metadata": {},
   "source": [
    "# My Jupyther notebook in IBM Watson Studio"
   ]
  },
  {
   "cell_type": "markdown",
   "id": "b6de9a45",
   "metadata": {},
   "source": [
    "**Antonio Giannone**\n",
    "\n",
    "Chef"
   ]
  },
  {
   "cell_type": "markdown",
   "id": "088e661f",
   "metadata": {},
   "source": [
    "_i am interested in data science becouse i like to find details in big data sets_"
   ]
  },
  {
   "cell_type": "markdown",
   "id": "8bf13c66",
   "metadata": {},
   "source": [
    "### The following code sums the sale of deserts of the last four weeks"
   ]
  },
  {
   "cell_type": "code",
   "execution_count": 6,
   "id": "37482f5b",
   "metadata": {},
   "outputs": [
    {
     "name": "stdout",
     "output_type": "stream",
     "text": [
      "1182\n"
     ]
    }
   ],
   "source": [
    "week1=320\n",
    "week2=330\n",
    "week3=115\n",
    "week4=417\n",
    "print(week1+week2+week3+week4)"
   ]
  },
  {
   "cell_type": "markdown",
   "id": "8ea3e07f",
   "metadata": {},
   "source": [
    "![Type of desert](https://reallygreatfood.com/wp-content/uploads/2017/03/cannolishells-1500x1000.jpg)"
   ]
  },
  {
   "cell_type": "markdown",
   "id": "bfdd7a91",
   "metadata": {},
   "source": [
    "Numbers of month taken in consideration ~~2~~ 1"
   ]
  },
  {
   "cell_type": "markdown",
   "id": "d6942a74",
   "metadata": {},
   "source": [
    "* 1 week\n",
    "  * worked 4 days\n",
    "* 2 week\n",
    "  * worked 5 days\n",
    "* 3 week\n",
    "  * worked 2 days\n",
    "* 4 week\n",
    "  * worked 5 days"
   ]
  },
  {
   "cell_type": "markdown",
   "id": "d0f7b699",
   "metadata": {},
   "source": [
    "| week 1   | week 2   | week 3   | week 4 |\n",
    "|---------|----------|--------|--------\n",
    "| 320         | 330   | 115   | 417   |\n",
    "| worked 4 days | worked 5 days| worked 2 days | worked 5 days |\n"
   ]
  },
  {
   "cell_type": "code",
   "execution_count": null,
   "id": "246f4a94",
   "metadata": {},
   "outputs": [],
   "source": []
  }
 ],
 "metadata": {
  "kernelspec": {
   "display_name": "Python 3 (ipykernel)",
   "language": "python",
   "name": "python3"
  },
  "language_info": {
   "codemirror_mode": {
    "name": "ipython",
    "version": 3
   },
   "file_extension": ".py",
   "mimetype": "text/x-python",
   "name": "python",
   "nbconvert_exporter": "python",
   "pygments_lexer": "ipython3",
   "version": "3.9.12"
  }
 },
 "nbformat": 4,
 "nbformat_minor": 5
}
